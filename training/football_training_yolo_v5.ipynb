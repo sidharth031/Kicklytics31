{
 "cells": [
  {
   "cell_type": "code",
   "execution_count": 5,
   "metadata": {},
   "outputs": [
    {
     "name": "stdout",
     "output_type": "stream",
     "text": [
      "Requirement already satisfied: ultralytics in c:\\users\\sidha\\appdata\\local\\programs\\python\\python312\\lib\\site-packages (8.3.97)\n",
      "Requirement already satisfied: numpy<=2.1.1,>=1.23.0 in c:\\users\\sidha\\appdata\\local\\programs\\python\\python312\\lib\\site-packages (from ultralytics) (1.26.4)\n",
      "Requirement already satisfied: matplotlib>=3.3.0 in c:\\users\\sidha\\appdata\\local\\programs\\python\\python312\\lib\\site-packages (from ultralytics) (3.9.1)\n",
      "Requirement already satisfied: opencv-python>=4.6.0 in c:\\users\\sidha\\appdata\\local\\programs\\python\\python312\\lib\\site-packages (from ultralytics) (4.11.0.86)\n",
      "Requirement already satisfied: pillow>=7.1.2 in c:\\users\\sidha\\appdata\\local\\programs\\python\\python312\\lib\\site-packages (from ultralytics) (10.4.0)\n",
      "Requirement already satisfied: pyyaml>=5.3.1 in c:\\users\\sidha\\appdata\\local\\programs\\python\\python312\\lib\\site-packages (from ultralytics) (6.0.2)\n",
      "Requirement already satisfied: requests>=2.23.0 in c:\\users\\sidha\\appdata\\local\\programs\\python\\python312\\lib\\site-packages (from ultralytics) (2.32.3)\n",
      "Requirement already satisfied: scipy>=1.4.1 in c:\\users\\sidha\\appdata\\local\\programs\\python\\python312\\lib\\site-packages (from ultralytics) (1.14.0)\n",
      "Requirement already satisfied: torch>=1.8.0 in c:\\users\\sidha\\appdata\\local\\programs\\python\\python312\\lib\\site-packages (from ultralytics) (2.6.0)\n",
      "Requirement already satisfied: torchvision>=0.9.0 in c:\\users\\sidha\\appdata\\local\\programs\\python\\python312\\lib\\site-packages (from ultralytics) (0.21.0)\n",
      "Requirement already satisfied: tqdm>=4.64.0 in c:\\users\\sidha\\appdata\\local\\programs\\python\\python312\\lib\\site-packages (from ultralytics) (4.67.1)\n",
      "Requirement already satisfied: psutil in c:\\users\\sidha\\appdata\\roaming\\python\\python312\\site-packages (from ultralytics) (5.9.8)\n",
      "Requirement already satisfied: py-cpuinfo in c:\\users\\sidha\\appdata\\local\\programs\\python\\python312\\lib\\site-packages (from ultralytics) (9.0.0)\n",
      "Requirement already satisfied: pandas>=1.1.4 in c:\\users\\sidha\\appdata\\local\\programs\\python\\python312\\lib\\site-packages (from ultralytics) (2.2.2)\n",
      "Requirement already satisfied: seaborn>=0.11.0 in c:\\users\\sidha\\appdata\\local\\programs\\python\\python312\\lib\\site-packages (from ultralytics) (0.13.2)\n",
      "Requirement already satisfied: ultralytics-thop>=2.0.0 in c:\\users\\sidha\\appdata\\local\\programs\\python\\python312\\lib\\site-packages (from ultralytics) (2.0.14)\n",
      "Requirement already satisfied: contourpy>=1.0.1 in c:\\users\\sidha\\appdata\\local\\programs\\python\\python312\\lib\\site-packages (from matplotlib>=3.3.0->ultralytics) (1.2.1)\n",
      "Requirement already satisfied: cycler>=0.10 in c:\\users\\sidha\\appdata\\local\\programs\\python\\python312\\lib\\site-packages (from matplotlib>=3.3.0->ultralytics) (0.12.1)\n",
      "Requirement already satisfied: fonttools>=4.22.0 in c:\\users\\sidha\\appdata\\local\\programs\\python\\python312\\lib\\site-packages (from matplotlib>=3.3.0->ultralytics) (4.53.1)\n",
      "Requirement already satisfied: kiwisolver>=1.3.1 in c:\\users\\sidha\\appdata\\local\\programs\\python\\python312\\lib\\site-packages (from matplotlib>=3.3.0->ultralytics) (1.4.5)\n",
      "Requirement already satisfied: packaging>=20.0 in c:\\users\\sidha\\appdata\\roaming\\python\\python312\\site-packages (from matplotlib>=3.3.0->ultralytics) (24.0)\n",
      "Requirement already satisfied: pyparsing>=2.3.1 in c:\\users\\sidha\\appdata\\local\\programs\\python\\python312\\lib\\site-packages (from matplotlib>=3.3.0->ultralytics) (3.1.2)\n",
      "Requirement already satisfied: python-dateutil>=2.7 in c:\\users\\sidha\\appdata\\roaming\\python\\python312\\site-packages (from matplotlib>=3.3.0->ultralytics) (2.9.0.post0)\n",
      "Requirement already satisfied: pytz>=2020.1 in c:\\users\\sidha\\appdata\\local\\programs\\python\\python312\\lib\\site-packages (from pandas>=1.1.4->ultralytics) (2024.1)\n",
      "Requirement already satisfied: tzdata>=2022.7 in c:\\users\\sidha\\appdata\\local\\programs\\python\\python312\\lib\\site-packages (from pandas>=1.1.4->ultralytics) (2024.1)\n",
      "Requirement already satisfied: charset-normalizer<4,>=2 in c:\\users\\sidha\\appdata\\local\\programs\\python\\python312\\lib\\site-packages (from requests>=2.23.0->ultralytics) (3.3.2)\n",
      "Requirement already satisfied: idna<4,>=2.5 in c:\\users\\sidha\\appdata\\local\\programs\\python\\python312\\lib\\site-packages (from requests>=2.23.0->ultralytics) (3.7)\n",
      "Requirement already satisfied: urllib3<3,>=1.21.1 in c:\\users\\sidha\\appdata\\local\\programs\\python\\python312\\lib\\site-packages (from requests>=2.23.0->ultralytics) (2.2.2)\n",
      "Requirement already satisfied: certifi>=2017.4.17 in c:\\users\\sidha\\appdata\\local\\programs\\python\\python312\\lib\\site-packages (from requests>=2.23.0->ultralytics) (2024.7.4)\n",
      "Requirement already satisfied: filelock in c:\\users\\sidha\\appdata\\local\\programs\\python\\python312\\lib\\site-packages (from torch>=1.8.0->ultralytics) (3.15.4)\n",
      "Requirement already satisfied: typing-extensions>=4.10.0 in c:\\users\\sidha\\appdata\\local\\programs\\python\\python312\\lib\\site-packages (from torch>=1.8.0->ultralytics) (4.12.2)\n",
      "Requirement already satisfied: networkx in c:\\users\\sidha\\appdata\\local\\programs\\python\\python312\\lib\\site-packages (from torch>=1.8.0->ultralytics) (3.4.2)\n",
      "Requirement already satisfied: jinja2 in c:\\users\\sidha\\appdata\\local\\programs\\python\\python312\\lib\\site-packages (from torch>=1.8.0->ultralytics) (3.1.4)\n",
      "Requirement already satisfied: fsspec in c:\\users\\sidha\\appdata\\local\\programs\\python\\python312\\lib\\site-packages (from torch>=1.8.0->ultralytics) (2025.3.0)\n",
      "Requirement already satisfied: setuptools in c:\\users\\sidha\\appdata\\local\\programs\\python\\python312\\lib\\site-packages (from torch>=1.8.0->ultralytics) (70.3.0)\n",
      "Requirement already satisfied: sympy==1.13.1 in c:\\users\\sidha\\appdata\\local\\programs\\python\\python312\\lib\\site-packages (from torch>=1.8.0->ultralytics) (1.13.1)\n",
      "Requirement already satisfied: mpmath<1.4,>=1.1.0 in c:\\users\\sidha\\appdata\\local\\programs\\python\\python312\\lib\\site-packages (from sympy==1.13.1->torch>=1.8.0->ultralytics) (1.3.0)\n",
      "Requirement already satisfied: colorama in c:\\users\\sidha\\appdata\\roaming\\python\\python312\\site-packages (from tqdm>=4.64.0->ultralytics) (0.4.6)\n",
      "Requirement already satisfied: six>=1.5 in c:\\users\\sidha\\appdata\\roaming\\python\\python312\\site-packages (from python-dateutil>=2.7->matplotlib>=3.3.0->ultralytics) (1.16.0)\n",
      "Requirement already satisfied: MarkupSafe>=2.0 in c:\\users\\sidha\\appdata\\local\\programs\\python\\python312\\lib\\site-packages (from jinja2->torch>=1.8.0->ultralytics) (2.1.5)\n",
      "Note: you may need to restart the kernel to use updated packages.\n"
     ]
    },
    {
     "name": "stderr",
     "output_type": "stream",
     "text": [
      "\n",
      "[notice] A new release of pip is available: 24.1.2 -> 25.0.1\n",
      "[notice] To update, run: python.exe -m pip install --upgrade pip\n"
     ]
    },
    {
     "name": "stdout",
     "output_type": "stream",
     "text": [
      "Requirement already satisfied: roboflow in c:\\users\\sidha\\appdata\\local\\programs\\python\\python312\\lib\\site-packages (1.1.58)\n",
      "Requirement already satisfied: certifi in c:\\users\\sidha\\appdata\\local\\programs\\python\\python312\\lib\\site-packages (from roboflow) (2024.7.4)\n",
      "Requirement already satisfied: idna==3.7 in c:\\users\\sidha\\appdata\\local\\programs\\python\\python312\\lib\\site-packages (from roboflow) (3.7)\n",
      "Requirement already satisfied: cycler in c:\\users\\sidha\\appdata\\local\\programs\\python\\python312\\lib\\site-packages (from roboflow) (0.12.1)\n",
      "Requirement already satisfied: kiwisolver>=1.3.1 in c:\\users\\sidha\\appdata\\local\\programs\\python\\python312\\lib\\site-packages (from roboflow) (1.4.5)\n",
      "Requirement already satisfied: matplotlib in c:\\users\\sidha\\appdata\\local\\programs\\python\\python312\\lib\\site-packages (from roboflow) (3.9.1)\n",
      "Requirement already satisfied: numpy>=1.18.5 in c:\\users\\sidha\\appdata\\local\\programs\\python\\python312\\lib\\site-packages (from roboflow) (1.26.4)\n",
      "Requirement already satisfied: opencv-python-headless==4.10.0.84 in c:\\users\\sidha\\appdata\\local\\programs\\python\\python312\\lib\\site-packages (from roboflow) (4.10.0.84)\n",
      "Requirement already satisfied: Pillow>=7.1.2 in c:\\users\\sidha\\appdata\\local\\programs\\python\\python312\\lib\\site-packages (from roboflow) (10.4.0)\n",
      "Requirement already satisfied: pillow-heif>=0.18.0 in c:\\users\\sidha\\appdata\\local\\programs\\python\\python312\\lib\\site-packages (from roboflow) (0.22.0)\n",
      "Requirement already satisfied: python-dateutil in c:\\users\\sidha\\appdata\\roaming\\python\\python312\\site-packages (from roboflow) (2.9.0.post0)\n",
      "Requirement already satisfied: python-dotenv in c:\\users\\sidha\\appdata\\local\\programs\\python\\python312\\lib\\site-packages (from roboflow) (1.1.0)\n",
      "Requirement already satisfied: requests in c:\\users\\sidha\\appdata\\local\\programs\\python\\python312\\lib\\site-packages (from roboflow) (2.32.3)\n",
      "Requirement already satisfied: six in c:\\users\\sidha\\appdata\\roaming\\python\\python312\\site-packages (from roboflow) (1.16.0)\n",
      "Requirement already satisfied: urllib3>=1.26.6 in c:\\users\\sidha\\appdata\\local\\programs\\python\\python312\\lib\\site-packages (from roboflow) (2.2.2)\n",
      "Requirement already satisfied: tqdm>=4.41.0 in c:\\users\\sidha\\appdata\\local\\programs\\python\\python312\\lib\\site-packages (from roboflow) (4.67.1)\n",
      "Requirement already satisfied: PyYAML>=5.3.1 in c:\\users\\sidha\\appdata\\local\\programs\\python\\python312\\lib\\site-packages (from roboflow) (6.0.2)\n",
      "Requirement already satisfied: requests-toolbelt in c:\\users\\sidha\\appdata\\local\\programs\\python\\python312\\lib\\site-packages (from roboflow) (1.0.0)\n",
      "Requirement already satisfied: filetype in c:\\users\\sidha\\appdata\\local\\programs\\python\\python312\\lib\\site-packages (from roboflow) (1.2.0)\n",
      "Requirement already satisfied: colorama in c:\\users\\sidha\\appdata\\roaming\\python\\python312\\site-packages (from tqdm>=4.41.0->roboflow) (0.4.6)\n",
      "Requirement already satisfied: contourpy>=1.0.1 in c:\\users\\sidha\\appdata\\local\\programs\\python\\python312\\lib\\site-packages (from matplotlib->roboflow) (1.2.1)\n",
      "Requirement already satisfied: fonttools>=4.22.0 in c:\\users\\sidha\\appdata\\local\\programs\\python\\python312\\lib\\site-packages (from matplotlib->roboflow) (4.53.1)\n",
      "Requirement already satisfied: packaging>=20.0 in c:\\users\\sidha\\appdata\\roaming\\python\\python312\\site-packages (from matplotlib->roboflow) (24.0)\n",
      "Requirement already satisfied: pyparsing>=2.3.1 in c:\\users\\sidha\\appdata\\local\\programs\\python\\python312\\lib\\site-packages (from matplotlib->roboflow) (3.1.2)\n",
      "Requirement already satisfied: charset-normalizer<4,>=2 in c:\\users\\sidha\\appdata\\local\\programs\\python\\python312\\lib\\site-packages (from requests->roboflow) (3.3.2)\n",
      "Note: you may need to restart the kernel to use updated packages.\n"
     ]
    },
    {
     "name": "stderr",
     "output_type": "stream",
     "text": [
      "\n",
      "[notice] A new release of pip is available: 24.1.2 -> 25.0.1\n",
      "[notice] To update, run: python.exe -m pip install --upgrade pip\n"
     ]
    }
   ],
   "source": [
    "%pip install ultralytics\n",
    "%pip install roboflow\n"
   ]
  },
  {
   "cell_type": "markdown",
   "metadata": {},
   "source": [
    "# Get Dataset\n"
   ]
  },
  {
   "cell_type": "code",
   "execution_count": 6,
   "metadata": {},
   "outputs": [
    {
     "name": "stdout",
     "output_type": "stream",
     "text": [
      "loading Roboflow workspace...\n",
      "loading Roboflow project...\n"
     ]
    },
    {
     "name": "stderr",
     "output_type": "stream",
     "text": [
      "Downloading Dataset Version Zip in football-players-detection-1 to yolov5pytorch:: 100%|██████████| 148663/148663 [00:35<00:00, 4137.17it/s]"
     ]
    },
    {
     "name": "stdout",
     "output_type": "stream",
     "text": [
      "\n"
     ]
    },
    {
     "name": "stderr",
     "output_type": "stream",
     "text": [
      "\n",
      "Extracting Dataset Version Zip to football-players-detection-1 in yolov5pytorch:: 100%|██████████| 1338/1338 [00:01<00:00, 1074.21it/s]\n"
     ]
    }
   ],
   "source": [
    "\n",
    "from roboflow import Roboflow\n",
    "rf = Roboflow(api_key=\"SiTR3tpPMWDfroKK3RDz\")\n",
    "project = rf.workspace(\"roboflow-jvuqo\").project(\"football-players-detection-3zvbc\")\n",
    "version = project.version(1)\n",
    "dataset = version.download(\"yolov5\")\n",
    "                "
   ]
  },
  {
   "cell_type": "code",
   "execution_count": 7,
   "metadata": {},
   "outputs": [
    {
     "data": {
      "text/plain": [
       "'c:\\\\Users\\\\sidha\\\\OneDrive\\\\Desktop\\\\10Days\\\\Main_project\\\\football_ananlysis\\\\training\\\\football-players-detection-1'"
      ]
     },
     "execution_count": 7,
     "metadata": {},
     "output_type": "execute_result"
    }
   ],
   "source": [
    "dataset.location"
   ]
  },
  {
   "cell_type": "markdown",
   "metadata": {},
   "source": [
    "# To move data in another folder\n"
   ]
  },
  {
   "cell_type": "code",
   "execution_count": 9,
   "metadata": {},
   "outputs": [
    {
     "data": {
      "text/plain": [
       "'football-players-detection-1/football-players-detection-1/valid'"
      ]
     },
     "execution_count": 9,
     "metadata": {},
     "output_type": "execute_result"
    }
   ],
   "source": [
    "import shutil\n",
    "shutil.move('football-players-detection-1/train', 'football-players-detection-1/football-players-detection-1/train')   \n",
    "shutil.move('football-players-detection-1/test', 'football-players-detection-1/football-players-detection-1/test')   \n",
    "shutil.move('football-players-detection-1/valid', 'football-players-detection-1/football-players-detection-1/valid')   "
   ]
  },
  {
   "cell_type": "markdown",
   "metadata": {},
   "source": [
    "# Training"
   ]
  },
  {
   "cell_type": "code",
   "execution_count": 13,
   "metadata": {},
   "outputs": [
    {
     "name": "stdout",
     "output_type": "stream",
     "text": [
      "^C\n"
     ]
    },
    {
     "name": "stdout",
     "output_type": "stream",
     "text": [
      "Downloading https://github.com/ultralytics/assets/releases/download/v8.3.0/yolov5lu.pt to 'model\\yolov5lu.pt'...\n",
      "Ultralytics 8.3.97 🚀 Python-3.12.0 torch-2.6.0+cpu CPU (11th Gen Intel Core(TM) i5-11400H 2.70GHz)\n",
      "\u001b[34m\u001b[1mengine\\trainer: \u001b[0mtask=detect, mode=train, model=model/yolov5lu.pt, data=c:\\Users\\sidha\\OneDrive\\Desktop\\10Days\\Main_project\\football_ananlysis\\training\\football-players-detection-1/data.yaml, epochs=10, time=None, patience=100, batch=16, imgsz=640, save=True, save_period=-1, cache=False, device=None, workers=8, project=None, name=train2, exist_ok=False, pretrained=True, optimizer=auto, verbose=True, seed=0, deterministic=True, single_cls=False, rect=False, cos_lr=False, close_mosaic=10, resume=False, amp=True, fraction=1.0, profile=False, freeze=None, multi_scale=False, overlap_mask=True, mask_ratio=4, dropout=0.0, val=True, split=val, save_json=False, save_hybrid=False, conf=None, iou=0.7, max_det=300, half=False, dnn=False, plots=True, source=None, vid_stride=1, stream_buffer=False, visualize=False, augment=False, agnostic_nms=False, classes=None, retina_masks=False, embed=None, show=False, save_frames=False, save_txt=False, save_conf=False, save_crop=False, show_labels=True, show_conf=True, show_boxes=True, line_width=None, format=torchscript, keras=False, optimize=False, int8=False, dynamic=False, simplify=True, opset=None, workspace=None, nms=False, lr0=0.01, lrf=0.01, momentum=0.937, weight_decay=0.0005, warmup_epochs=3.0, warmup_momentum=0.8, warmup_bias_lr=0.1, box=7.5, cls=0.5, dfl=1.5, pose=12.0, kobj=1.0, nbs=64, hsv_h=0.015, hsv_s=0.7, hsv_v=0.4, degrees=0.0, translate=0.1, scale=0.5, shear=0.0, perspective=0.0, flipud=0.0, fliplr=0.5, bgr=0.0, mosaic=1.0, mixup=0.0, copy_paste=0.0, copy_paste_mode=flip, auto_augment=randaugment, erasing=0.4, crop_fraction=1.0, cfg=None, tracker=botsort.yaml, save_dir=runs\\detect\\train2\n",
      "Overriding model.yaml nc=80 with nc=4\n",
      "\n",
      "                   from  n    params  module                                       arguments                     \n",
      "  0                  -1  1      7040  ultralytics.nn.modules.conv.Conv             [3, 64, 6, 2, 2]              \n",
      "  1                  -1  1     73984  ultralytics.nn.modules.conv.Conv             [64, 128, 3, 2]               \n",
      "  2                  -1  3    156928  ultralytics.nn.modules.block.C3              [128, 128, 3]                 \n",
      "  3                  -1  1    295424  ultralytics.nn.modules.conv.Conv             [128, 256, 3, 2]              \n",
      "  4                  -1  6   1118208  ultralytics.nn.modules.block.C3              [256, 256, 6]                 \n",
      "  5                  -1  1   1180672  ultralytics.nn.modules.conv.Conv             [256, 512, 3, 2]              \n",
      "  6                  -1  9   6433792  ultralytics.nn.modules.block.C3              [512, 512, 9]                 \n",
      "  7                  -1  1   4720640  ultralytics.nn.modules.conv.Conv             [512, 1024, 3, 2]             \n",
      "  8                  -1  3   9971712  ultralytics.nn.modules.block.C3              [1024, 1024, 3]               \n",
      "  9                  -1  1   2624512  ultralytics.nn.modules.block.SPPF            [1024, 1024, 5]               \n",
      " 10                  -1  1    525312  ultralytics.nn.modules.conv.Conv             [1024, 512, 1, 1]             \n",
      " 11                  -1  1         0  torch.nn.modules.upsampling.Upsample         [None, 2, 'nearest']          \n",
      " 12             [-1, 6]  1         0  ultralytics.nn.modules.conv.Concat           [1]                           \n",
      " 13                  -1  3   2757632  ultralytics.nn.modules.block.C3              [1024, 512, 3, False]         \n",
      " 14                  -1  1    131584  ultralytics.nn.modules.conv.Conv             [512, 256, 1, 1]              \n",
      " 15                  -1  1         0  torch.nn.modules.upsampling.Upsample         [None, 2, 'nearest']          \n",
      " 16             [-1, 4]  1         0  ultralytics.nn.modules.conv.Concat           [1]                           \n",
      " 17                  -1  3    690688  ultralytics.nn.modules.block.C3              [512, 256, 3, False]          \n",
      " 18                  -1  1    590336  ultralytics.nn.modules.conv.Conv             [256, 256, 3, 2]              \n",
      " 19            [-1, 14]  1         0  ultralytics.nn.modules.conv.Concat           [1]                           \n",
      " 20                  -1  3   2495488  ultralytics.nn.modules.block.C3              [512, 512, 3, False]          \n",
      " 21                  -1  1   2360320  ultralytics.nn.modules.conv.Conv             [512, 512, 3, 2]              \n",
      " 22            [-1, 10]  1         0  ultralytics.nn.modules.conv.Concat           [1]                           \n",
      " 23                  -1  3   9971712  ultralytics.nn.modules.block.C3              [1024, 1024, 3, False]        \n",
      " 24        [17, 20, 23]  1   7060444  ultralytics.nn.modules.head.Detect           [4, [256, 512, 1024]]         \n",
      "YOLOv5l summary: 241 layers, 53,166,428 parameters, 53,166,412 gradients, 135.3 GFLOPs\n",
      "\n",
      "Transferred 685/691 items from pretrained weights\n",
      "\u001b[34m\u001b[1mTensorBoard: \u001b[0mStart with 'tensorboard --logdir runs\\detect\\train2', view at http://localhost:6006/\n",
      "Freezing layer 'model.24.dfl.conv.weight'\n",
      "Plotting labels to runs\\detect\\train2\\labels.jpg... \n",
      "\u001b[34m\u001b[1moptimizer:\u001b[0m 'optimizer=auto' found, ignoring 'lr0=0.01' and 'momentum=0.937' and determining best 'optimizer', 'lr0' and 'momentum' automatically... \n",
      "\u001b[34m\u001b[1moptimizer:\u001b[0m AdamW(lr=0.00125, momentum=0.9) with parameter groups 113 weight(decay=0.0), 120 weight(decay=0.0005), 119 bias(decay=0.0)\n",
      "\u001b[34m\u001b[1mTensorBoard: \u001b[0mmodel graph visualization added ✅\n",
      "Image sizes 640 train, 640 val\n",
      "Using 0 dataloader workers\n",
      "Logging results to \u001b[1mruns\\detect\\train2\u001b[0m\n",
      "Starting training for 10 epochs...\n",
      "Closing dataloader mosaic\n",
      "\n",
      "      Epoch    GPU_mem   box_loss   cls_loss   dfl_loss  Instances       Size\n"
     ]
    },
    {
     "name": "stderr",
     "output_type": "stream",
     "text": [
      "\n",
      "  0%|          | 0.00/102M [00:00<?, ?B/s]\n",
      "  0%|          | 256k/102M [00:00<00:50, 2.13MB/s]\n",
      "  2%|▏         | 2.00M/102M [00:00<00:10, 10.2MB/s]\n",
      "  3%|▎         | 3.12M/102M [00:00<00:11, 8.83MB/s]\n",
      "  4%|▍         | 4.50M/102M [00:00<00:10, 10.2MB/s]\n",
      "  6%|▌         | 5.62M/102M [00:00<00:12, 8.12MB/s]\n",
      "  6%|▋         | 6.50M/102M [00:01<00:19, 5.12MB/s]\n",
      "  7%|▋         | 7.62M/102M [00:01<00:16, 6.05MB/s]\n",
      "  8%|▊         | 8.38M/102M [00:01<00:18, 5.28MB/s]\n",
      "  9%|▉         | 9.25M/102M [00:01<00:16, 5.89MB/s]\n",
      " 10%|▉         | 10.0M/102M [00:01<00:16, 5.75MB/s]\n",
      " 10%|█         | 10.6M/102M [00:01<00:19, 4.91MB/s]\n",
      " 11%|█         | 11.2M/102M [00:02<00:30, 3.13MB/s]\n",
      " 12%|█▏        | 11.8M/102M [00:02<00:40, 2.33MB/s]\n",
      " 12%|█▏        | 12.1M/102M [00:02<00:45, 2.07MB/s]\n",
      " 12%|█▏        | 12.5M/102M [00:03<00:49, 1.90MB/s]\n",
      " 13%|█▎        | 12.8M/102M [00:03<00:50, 1.85MB/s]\n",
      " 13%|█▎        | 13.0M/102M [00:03<00:51, 1.82MB/s]\n",
      " 13%|█▎        | 13.2M/102M [00:03<00:51, 1.80MB/s]\n",
      " 13%|█▎        | 13.5M/102M [00:03<00:50, 1.83MB/s]\n",
      " 13%|█▎        | 13.8M/102M [00:03<00:50, 1.82MB/s]\n",
      " 14%|█▎        | 14.0M/102M [00:04<00:49, 1.86MB/s]\n",
      " 14%|█▍        | 14.2M/102M [00:04<00:48, 1.88MB/s]\n",
      " 14%|█▍        | 14.5M/102M [00:04<00:47, 1.94MB/s]\n",
      " 14%|█▍        | 14.8M/102M [00:04<00:46, 1.97MB/s]\n",
      " 15%|█▍        | 15.0M/102M [00:04<00:44, 2.03MB/s]\n",
      " 15%|█▍        | 15.2M/102M [00:04<00:43, 2.09MB/s]\n",
      " 15%|█▌        | 15.5M/102M [00:04<00:41, 2.16MB/s]\n",
      " 15%|█▌        | 15.8M/102M [00:04<00:41, 2.18MB/s]\n",
      " 16%|█▌        | 16.0M/102M [00:05<00:40, 2.23MB/s]\n",
      " 16%|█▌        | 16.2M/102M [00:05<00:38, 2.31MB/s]\n",
      " 16%|█▌        | 16.5M/102M [00:05<00:38, 2.34MB/s]\n",
      " 16%|█▋        | 16.8M/102M [00:05<00:37, 2.37MB/s]\n",
      " 17%|█▋        | 17.0M/102M [00:05<00:36, 2.41MB/s]\n",
      " 17%|█▋        | 17.4M/102M [00:05<00:35, 2.52MB/s]\n",
      " 17%|█▋        | 17.6M/102M [00:05<00:35, 2.52MB/s]\n",
      " 18%|█▊        | 18.0M/102M [00:05<00:33, 2.59MB/s]\n",
      " 18%|█▊        | 18.4M/102M [00:06<00:32, 2.67MB/s]\n",
      " 18%|█▊        | 18.8M/102M [00:06<00:31, 2.74MB/s]\n",
      " 19%|█▉        | 19.1M/102M [00:06<00:31, 2.78MB/s]\n",
      " 19%|█▉        | 19.5M/102M [00:06<00:30, 2.85MB/s]\n",
      " 19%|█▉        | 19.9M/102M [00:06<00:30, 2.86MB/s]\n",
      " 20%|█▉        | 20.2M/102M [00:06<00:29, 2.95MB/s]\n",
      " 20%|██        | 20.6M/102M [00:06<00:28, 3.02MB/s]\n",
      " 21%|██        | 21.0M/102M [00:06<00:27, 3.08MB/s]\n",
      " 21%|██        | 21.4M/102M [00:07<00:27, 3.11MB/s]\n",
      " 21%|██▏       | 21.8M/102M [00:07<00:26, 3.19MB/s]\n",
      " 22%|██▏       | 22.1M/102M [00:07<00:25, 3.24MB/s]\n",
      " 22%|██▏       | 22.5M/102M [00:07<00:25, 3.26MB/s]\n",
      " 22%|██▏       | 22.9M/102M [00:07<00:24, 3.33MB/s]\n",
      " 23%|██▎       | 23.2M/102M [00:07<00:24, 3.37MB/s]\n",
      " 23%|██▎       | 23.6M/102M [00:07<00:23, 3.45MB/s]\n",
      " 24%|██▎       | 24.0M/102M [00:07<00:23, 3.48MB/s]\n",
      " 24%|██▍       | 24.4M/102M [00:07<00:23, 3.48MB/s]\n",
      " 24%|██▍       | 24.8M/102M [00:08<00:23, 3.52MB/s]\n",
      " 25%|██▍       | 25.1M/102M [00:08<00:22, 3.57MB/s]\n",
      " 25%|██▌       | 25.5M/102M [00:08<00:22, 3.59MB/s]\n",
      " 25%|██▌       | 25.9M/102M [00:08<00:21, 3.68MB/s]\n",
      " 26%|██▌       | 26.2M/102M [00:08<00:21, 3.74MB/s]\n",
      " 26%|██▌       | 26.6M/102M [00:08<00:20, 3.77MB/s]\n",
      " 27%|██▋       | 27.1M/102M [00:08<00:20, 3.84MB/s]\n",
      " 27%|██▋       | 27.5M/102M [00:08<00:20, 3.86MB/s]\n",
      " 27%|██▋       | 28.0M/102M [00:08<00:19, 3.98MB/s]\n",
      " 28%|██▊       | 28.5M/102M [00:09<00:20, 3.81MB/s]\n",
      " 28%|██▊       | 29.0M/102M [00:09<00:19, 3.92MB/s]\n",
      " 29%|██▉       | 29.5M/102M [00:09<00:18, 4.01MB/s]\n",
      " 29%|██▉       | 30.0M/102M [00:09<00:18, 4.11MB/s]\n",
      " 30%|██▉       | 30.5M/102M [00:09<00:18, 4.10MB/s]\n",
      " 30%|███       | 31.0M/102M [00:09<00:17, 4.19MB/s]\n",
      " 31%|███       | 31.5M/102M [00:09<00:17, 4.29MB/s]\n",
      " 31%|███▏      | 32.0M/102M [00:09<00:17, 4.18MB/s]\n",
      " 32%|███▏      | 32.5M/102M [00:10<00:17, 4.26MB/s]\n",
      " 32%|███▏      | 33.0M/102M [00:10<00:16, 4.40MB/s]\n",
      " 33%|███▎      | 33.5M/102M [00:10<00:16, 4.47MB/s]\n",
      " 33%|███▎      | 34.0M/102M [00:10<00:15, 4.52MB/s]\n",
      " 34%|███▍      | 34.5M/102M [00:10<00:15, 4.55MB/s]\n",
      " 34%|███▍      | 35.0M/102M [00:10<00:15, 4.58MB/s]\n",
      " 35%|███▍      | 35.5M/102M [00:10<00:14, 4.71MB/s]\n",
      " 35%|███▌      | 36.0M/102M [00:10<00:14, 4.81MB/s]\n",
      " 36%|███▌      | 36.5M/102M [00:10<00:14, 4.88MB/s]\n",
      " 36%|███▋      | 37.0M/102M [00:11<00:14, 4.68MB/s]\n",
      " 37%|███▋      | 37.5M/102M [00:11<00:14, 4.78MB/s]\n",
      " 37%|███▋      | 38.0M/102M [00:11<00:13, 4.89MB/s]\n",
      " 38%|███▊      | 38.5M/102M [00:11<00:13, 4.96MB/s]\n",
      " 38%|███▊      | 39.1M/102M [00:11<00:13, 5.04MB/s]\n",
      " 39%|███▉      | 39.8M/102M [00:11<00:12, 5.21MB/s]\n",
      " 40%|███▉      | 40.4M/102M [00:11<00:11, 5.42MB/s]\n",
      " 40%|████      | 41.0M/102M [00:11<00:11, 5.53MB/s]\n",
      " 41%|████      | 41.6M/102M [00:11<00:11, 5.63MB/s]\n",
      " 42%|████▏     | 42.4M/102M [00:12<00:10, 5.89MB/s]\n",
      " 42%|████▏     | 43.1M/102M [00:12<00:10, 6.11MB/s]\n",
      " 43%|████▎     | 43.8M/102M [00:12<00:09, 6.20MB/s]\n",
      " 44%|████▎     | 44.5M/102M [00:12<00:09, 6.46MB/s]\n",
      " 44%|████▍     | 45.2M/102M [00:12<00:08, 6.74MB/s]\n",
      " 45%|████▌     | 46.0M/102M [00:12<00:08, 6.97MB/s]\n",
      " 46%|████▌     | 46.9M/102M [00:12<00:07, 7.29MB/s]\n",
      " 47%|████▋     | 47.6M/102M [00:12<00:08, 7.12MB/s]\n",
      " 47%|████▋     | 48.4M/102M [00:13<00:09, 5.84MB/s]\n",
      " 48%|████▊     | 49.0M/102M [00:13<00:13, 4.07MB/s]\n",
      " 49%|████▊     | 49.5M/102M [00:13<00:16, 3.41MB/s]\n",
      " 49%|████▉     | 50.0M/102M [00:13<00:17, 3.04MB/s]\n",
      " 49%|████▉     | 50.4M/102M [00:14<00:19, 2.84MB/s]\n",
      " 50%|████▉     | 50.8M/102M [00:14<00:19, 2.72MB/s]\n",
      " 50%|█████     | 51.1M/102M [00:14<00:20, 2.64MB/s]\n",
      " 51%|█████     | 51.5M/102M [00:14<00:20, 2.63MB/s]\n",
      " 51%|█████     | 51.9M/102M [00:14<00:20, 2.62MB/s]\n",
      " 51%|█████     | 52.2M/102M [00:14<00:19, 2.63MB/s]\n",
      " 52%|█████▏    | 52.6M/102M [00:14<00:19, 2.68MB/s]\n",
      " 52%|█████▏    | 53.0M/102M [00:15<00:18, 2.73MB/s]\n",
      " 52%|█████▏    | 53.4M/102M [00:15<00:18, 2.76MB/s]\n",
      " 53%|█████▎    | 53.8M/102M [00:15<00:17, 2.81MB/s]\n",
      " 53%|█████▎    | 54.1M/102M [00:15<00:17, 2.88MB/s]\n",
      " 53%|█████▎    | 54.5M/102M [00:15<00:16, 2.93MB/s]\n",
      " 54%|█████▍    | 54.9M/102M [00:15<00:16, 3.00MB/s]\n",
      " 54%|█████▍    | 55.2M/102M [00:15<00:16, 3.04MB/s]\n",
      " 55%|█████▍    | 55.6M/102M [00:15<00:15, 3.08MB/s]\n",
      " 55%|█████▍    | 56.0M/102M [00:16<00:15, 3.13MB/s]\n",
      " 55%|█████▌    | 56.4M/102M [00:16<00:15, 3.15MB/s]\n",
      " 56%|█████▌    | 56.8M/102M [00:16<00:14, 3.21MB/s]\n",
      " 56%|█████▌    | 57.1M/102M [00:16<00:14, 3.27MB/s]\n",
      " 56%|█████▋    | 57.5M/102M [00:16<00:14, 3.31MB/s]\n",
      " 57%|█████▋    | 57.9M/102M [00:16<00:13, 3.38MB/s]\n",
      " 57%|█████▋    | 58.2M/102M [00:16<00:13, 3.41MB/s]\n",
      " 57%|█████▋    | 58.6M/102M [00:16<00:13, 3.48MB/s]\n",
      " 58%|█████▊    | 59.0M/102M [00:17<00:12, 3.50MB/s]\n",
      " 58%|█████▊    | 59.4M/102M [00:17<00:12, 3.58MB/s]\n",
      " 59%|█████▊    | 59.8M/102M [00:17<00:12, 3.62MB/s]\n",
      " 59%|█████▉    | 60.1M/102M [00:17<00:11, 3.70MB/s]\n",
      " 59%|█████▉    | 60.5M/102M [00:17<00:11, 3.75MB/s]\n",
      " 60%|█████▉    | 60.9M/102M [00:17<00:11, 3.75MB/s]\n",
      " 60%|██████    | 61.2M/102M [00:17<00:11, 3.77MB/s]\n",
      " 61%|██████    | 61.8M/102M [00:17<00:10, 3.91MB/s]\n",
      " 61%|██████    | 62.2M/102M [00:17<00:10, 3.93MB/s]\n",
      " 62%|██████▏   | 62.8M/102M [00:18<00:10, 3.95MB/s]\n",
      " 62%|██████▏   | 63.2M/102M [00:18<00:10, 4.02MB/s]\n",
      " 63%|██████▎   | 63.8M/102M [00:18<00:09, 4.07MB/s]\n",
      " 63%|██████▎   | 64.2M/102M [00:18<00:09, 4.11MB/s]\n",
      " 64%|██████▎   | 64.8M/102M [00:18<00:09, 4.15MB/s]\n",
      " 64%|██████▍   | 65.2M/102M [00:18<00:09, 4.22MB/s]\n",
      " 64%|██████▍   | 65.8M/102M [00:18<00:08, 4.29MB/s]\n",
      " 65%|██████▍   | 66.2M/102M [00:18<00:08, 4.33MB/s]\n",
      " 65%|██████▌   | 66.8M/102M [00:18<00:08, 4.44MB/s]\n",
      " 66%|██████▌   | 67.2M/102M [00:19<00:08, 4.43MB/s]\n",
      " 66%|██████▋   | 67.8M/102M [00:19<00:07, 4.49MB/s]\n",
      " 67%|██████▋   | 68.2M/102M [00:19<00:07, 4.55MB/s]\n",
      " 67%|██████▋   | 68.8M/102M [00:19<00:07, 4.63MB/s]\n",
      " 68%|██████▊   | 69.2M/102M [00:19<00:07, 4.61MB/s]\n",
      " 68%|██████▊   | 69.8M/102M [00:19<00:07, 4.71MB/s]\n",
      " 69%|██████▉   | 70.2M/102M [00:19<00:07, 4.69MB/s]\n",
      " 69%|██████▉   | 70.8M/102M [00:19<00:06, 4.75MB/s]\n",
      " 70%|██████▉   | 71.2M/102M [00:19<00:06, 4.86MB/s]\n",
      " 70%|███████   | 71.8M/102M [00:20<00:06, 4.83MB/s]\n",
      " 71%|███████   | 72.2M/102M [00:20<00:06, 4.89MB/s]\n",
      " 71%|███████▏  | 72.8M/102M [00:20<00:06, 4.84MB/s]\n",
      " 72%|███████▏  | 73.2M/102M [00:20<00:06, 4.85MB/s]\n",
      " 72%|███████▏  | 73.8M/102M [00:20<00:06, 4.88MB/s]\n",
      " 73%|███████▎  | 74.4M/102M [00:20<00:05, 5.08MB/s]\n",
      " 73%|███████▎  | 74.9M/102M [00:20<00:05, 5.12MB/s]\n",
      " 74%|███████▍  | 75.4M/102M [00:20<00:05, 5.14MB/s]\n",
      " 75%|███████▍  | 76.0M/102M [00:20<00:05, 5.28MB/s]\n",
      " 75%|███████▌  | 76.6M/102M [00:21<00:05, 5.30MB/s]\n",
      " 76%|███████▌  | 77.2M/102M [00:21<00:04, 5.34MB/s]\n",
      " 76%|███████▋  | 77.9M/102M [00:21<00:04, 5.32MB/s]\n",
      " 77%|███████▋  | 78.5M/102M [00:21<00:04, 5.38MB/s]\n",
      " 78%|███████▊  | 79.1M/102M [00:21<00:04, 5.43MB/s]\n",
      " 78%|███████▊  | 79.8M/102M [00:21<00:04, 5.42MB/s]\n",
      " 79%|███████▉  | 80.4M/102M [00:21<00:03, 5.67MB/s]\n",
      " 79%|███████▉  | 81.0M/102M [00:21<00:03, 5.59MB/s]\n",
      " 80%|████████  | 81.6M/102M [00:22<00:03, 5.67MB/s]\n",
      " 81%|████████  | 82.2M/102M [00:22<00:03, 5.73MB/s]\n",
      " 81%|████████▏ | 82.9M/102M [00:22<00:03, 5.76MB/s]\n",
      " 82%|████████▏ | 83.5M/102M [00:22<00:03, 5.79MB/s]\n",
      " 83%|████████▎ | 84.1M/102M [00:22<00:03, 5.83MB/s]\n",
      " 83%|████████▎ | 84.8M/102M [00:22<00:03, 5.86MB/s]\n",
      " 84%|████████▎ | 85.4M/102M [00:22<00:02, 5.88MB/s]\n",
      " 84%|████████▍ | 86.0M/102M [00:22<00:02, 5.95MB/s]\n",
      " 85%|████████▍ | 86.6M/102M [00:22<00:02, 5.77MB/s]\n",
      " 86%|████████▌ | 87.2M/102M [00:23<00:02, 5.22MB/s]\n",
      " 86%|████████▌ | 87.9M/102M [00:23<00:02, 5.03MB/s]\n",
      " 87%|████████▋ | 88.4M/102M [00:23<00:02, 4.99MB/s]\n",
      " 87%|████████▋ | 88.9M/102M [00:23<00:02, 4.90MB/s]\n",
      " 88%|████████▊ | 89.4M/102M [00:23<00:02, 4.94MB/s]\n",
      " 88%|████████▊ | 89.9M/102M [00:23<00:02, 4.96MB/s]\n",
      " 89%|████████▉ | 90.5M/102M [00:23<00:02, 5.00MB/s]\n",
      " 89%|████████▉ | 91.0M/102M [00:23<00:02, 5.06MB/s]\n",
      " 90%|████████▉ | 91.5M/102M [00:23<00:02, 5.09MB/s]\n",
      " 90%|█████████ | 92.1M/102M [00:24<00:01, 5.16MB/s]\n",
      " 91%|█████████ | 92.8M/102M [00:24<00:01, 5.26MB/s]\n",
      " 92%|█████████▏| 93.4M/102M [00:24<00:01, 5.32MB/s]\n",
      " 92%|█████████▏| 94.0M/102M [00:24<00:01, 5.29MB/s]\n",
      " 93%|█████████▎| 94.6M/102M [00:24<00:01, 5.37MB/s]\n",
      " 93%|█████████▎| 95.2M/102M [00:24<00:01, 4.34MB/s]\n",
      " 94%|█████████▍| 95.8M/102M [00:24<00:01, 3.86MB/s]\n",
      " 94%|█████████▍| 96.2M/102M [00:25<00:01, 3.52MB/s]\n",
      " 95%|█████████▍| 96.6M/102M [00:25<00:01, 3.35MB/s]\n",
      " 95%|█████████▌| 97.0M/102M [00:25<00:01, 3.31MB/s]\n",
      " 96%|█████████▌| 97.4M/102M [00:25<00:01, 3.25MB/s]\n",
      " 96%|█████████▌| 97.8M/102M [00:25<00:01, 3.23MB/s]\n",
      " 96%|█████████▌| 98.1M/102M [00:25<00:01, 3.22MB/s]\n",
      " 97%|█████████▋| 98.5M/102M [00:25<00:01, 3.24MB/s]\n",
      " 97%|█████████▋| 98.9M/102M [00:26<00:00, 3.27MB/s]\n",
      " 97%|█████████▋| 99.2M/102M [00:26<00:00, 3.28MB/s]\n",
      " 98%|█████████▊| 99.6M/102M [00:26<00:00, 3.33MB/s]\n",
      " 98%|█████████▊| 100M/102M [00:26<00:00, 3.42MB/s] \n",
      " 98%|█████████▊| 100M/102M [00:26<00:00, 3.39MB/s]\n",
      " 99%|█████████▉| 101M/102M [00:26<00:00, 3.42MB/s]\n",
      " 99%|█████████▉| 101M/102M [00:26<00:00, 3.48MB/s]\n",
      "100%|█████████▉| 102M/102M [00:26<00:00, 3.55MB/s]\n",
      "100%|█████████▉| 102M/102M [00:26<00:00, 3.62MB/s]\n",
      "100%|██████████| 102M/102M [00:26<00:00, 3.97MB/s]\n",
      "\n",
      "\u001b[34m\u001b[1mtrain: \u001b[0mScanning C:\\Users\\sidha\\OneDrive\\Desktop\\10Days\\Main_project\\football_ananlysis\\training\\football-players-detection-1\\football-players-detection-1\\train\\labels.cache... 612 images, 0 backgrounds, 0 corrupt: 100%|██████████| 612/612 [00:00<?, ?it/s]\n",
      "\u001b[34m\u001b[1mtrain: \u001b[0mScanning C:\\Users\\sidha\\OneDrive\\Desktop\\10Days\\Main_project\\football_ananlysis\\training\\football-players-detection-1\\football-players-detection-1\\train\\labels.cache... 612 images, 0 backgrounds, 0 corrupt: 100%|██████████| 612/612 [00:00<?, ?it/s]\n",
      "\n",
      "\u001b[34m\u001b[1mval: \u001b[0mScanning C:\\Users\\sidha\\OneDrive\\Desktop\\10Days\\Main_project\\football_ananlysis\\training\\football-players-detection-1\\football-players-detection-1\\valid\\labels.cache... 38 images, 0 backgrounds, 0 corrupt: 100%|██████████| 38/38 [00:00<?, ?it/s]\n",
      "\u001b[34m\u001b[1mval: \u001b[0mScanning C:\\Users\\sidha\\OneDrive\\Desktop\\10Days\\Main_project\\football_ananlysis\\training\\football-players-detection-1\\football-players-detection-1\\valid\\labels.cache... 38 images, 0 backgrounds, 0 corrupt: 100%|██████████| 38/38 [00:00<?, ?it/s]\n",
      "\n",
      "  0%|          | 0/39 [00:00<?, ?it/s]\n"
     ]
    }
   ],
   "source": [
    "!yolo task=detect mode=train model = model/yolov5lu.pt data={dataset.location}/data.yaml epochs=10 imgsz=640"
   ]
  },
  {
   "cell_type": "code",
   "execution_count": null,
   "metadata": {},
   "outputs": [],
   "source": []
  }
 ],
 "metadata": {
  "kernelspec": {
   "display_name": "Python 3",
   "language": "python",
   "name": "python3"
  },
  "language_info": {
   "codemirror_mode": {
    "name": "ipython",
    "version": 3
   },
   "file_extension": ".py",
   "mimetype": "text/x-python",
   "name": "python",
   "nbconvert_exporter": "python",
   "pygments_lexer": "ipython3",
   "version": "3.12.0"
  }
 },
 "nbformat": 4,
 "nbformat_minor": 2
}
